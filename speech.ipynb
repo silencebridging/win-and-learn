{
 "cells": [
  {
   "cell_type": "code",
   "execution_count": null,
   "id": "df34547c",
   "metadata": {},
   "outputs": [
    {
     "name": "stdout",
     "output_type": "stream",
     "text": [
      "Watching folder: sound\n",
      "New file detected: sound\\output_20250614_034426.txt\n",
      "Speaking text: BABA\n",
      "Speech synthesis completed.\n"
     ]
    }
   ],
   "source": [
    "\n",
    "import os\n",
    "import time\n",
    "from watchdog.observers import Observer\n",
    "from watchdog.events import FileSystemEventHandler\n",
    "import azure.cognitiveservices.speech as speechsdk\n",
    "\n",
    "speech_key = \"C2aQwIVI4DwKew11iZqZiOn4x1FEt7qgaM2qIfDZIdCXnZm9LEfMJQQJ99BEACYeBjFXJ3w3AAAEACOGfGDZ\"\n",
    "service_region = \"eastus\"\n",
    "\n",
    "speech_config = speechsdk.SpeechConfig(subscription=speech_key, region=service_region)\n",
    "speech_config.speech_synthesis_voice_name = \"sw-KE-ZuriNeural\"\n",
    "synthesizer = speechsdk.SpeechSynthesizer(speech_config=speech_config)\n",
    "\n",
    "watch_folder = \"sound\"\n",
    "\n",
    "class NewTextFileHandler(FileSystemEventHandler):\n",
    "    def on_created(self, event):\n",
    "        # Only handle files, ignore directories\n",
    "        if not event.is_directory and event.src_path.endswith('.txt'):\n",
    "            print(f\"New file detected: {event.src_path}\")\n",
    "            self.read_and_speak(event.src_path)\n",
    "    \n",
    "    def read_and_speak(self, filepath):\n",
    "        try:\n",
    "            with open(filepath, 'r', encoding='utf-8') as f:\n",
    "                text = f.read().strip()\n",
    "            if text:\n",
    "                print(f\"Speaking text: {text}\")\n",
    "                result = synthesizer.speak_text_async(text).get()\n",
    "                if result.reason == speechsdk.ResultReason.SynthesizingAudioCompleted:\n",
    "                    print(\"Speech synthesis completed.\")\n",
    "                else:\n",
    "                    print(f\"Speech synthesis error: {result.reason}\")\n",
    "        except Exception as e:\n",
    "            print(f\"Error reading/speaking file: {e}\")\n",
    "\n",
    "if __name__ == \"__main__\":\n",
    "    if not os.path.exists(watch_folder):\n",
    "        os.makedirs(watch_folder)\n",
    "\n",
    "    event_handler = NewTextFileHandler()\n",
    "    observer = Observer()\n",
    "    observer.schedule(event_handler, path=watch_folder, recursive=False)\n",
    "    observer.start()\n",
    "    print(f\"Watching folder: {watch_folder}\")\n",
    "\n",
    "    try:\n",
    "        while True:\n",
    "            time.sleep(1)\n",
    "    except KeyboardInterrupt:\n",
    "        observer.stop()\n",
    "    observer.join()\n"
   ]
  },
  {
   "cell_type": "code",
   "execution_count": null,
   "id": "a561dd19",
   "metadata": {},
   "outputs": [],
   "source": []
  },
  {
   "cell_type": "code",
   "execution_count": 2,
   "id": "4ecb9a8b",
   "metadata": {},
   "outputs": [
    {
     "name": "stdout",
     "output_type": "stream",
     "text": [
      "Collecting watchdog\n",
      "  Downloading watchdog-6.0.0-py3-none-win_amd64.whl.metadata (44 kB)\n",
      "Downloading watchdog-6.0.0-py3-none-win_amd64.whl (79 kB)\n",
      "Installing collected packages: watchdog\n",
      "Successfully installed watchdog-6.0.0\n",
      "Note: you may need to restart the kernel to use updated packages.\n"
     ]
    }
   ],
   "source": [
    "%pip install watchdog"
   ]
  },
  {
   "cell_type": "code",
   "execution_count": 3,
   "id": "e085ad27",
   "metadata": {},
   "outputs": [
    {
     "name": "stdout",
     "output_type": "stream",
     "text": [
      "Requirement already satisfied: watchdog in d:\\alphabet model production\\alphabetmodel_production\\.conda\\lib\\site-packages (6.0.0)\n",
      "Collecting azure-cognitiveservices-speech\n",
      "  Downloading azure_cognitiveservices_speech-1.44.0-py3-none-win_amd64.whl.metadata (1.6 kB)\n",
      "Collecting azure-core>=1.31.0 (from azure-cognitiveservices-speech)\n",
      "  Downloading azure_core-1.34.0-py3-none-any.whl.metadata (42 kB)\n",
      "Collecting requests>=2.21.0 (from azure-core>=1.31.0->azure-cognitiveservices-speech)\n",
      "  Downloading requests-2.32.4-py3-none-any.whl.metadata (4.9 kB)\n",
      "Requirement already satisfied: six>=1.11.0 in d:\\alphabet model production\\alphabetmodel_production\\.conda\\lib\\site-packages (from azure-core>=1.31.0->azure-cognitiveservices-speech) (1.17.0)\n",
      "Requirement already satisfied: typing-extensions>=4.6.0 in d:\\alphabet model production\\alphabetmodel_production\\.conda\\lib\\site-packages (from azure-core>=1.31.0->azure-cognitiveservices-speech) (4.12.2)\n",
      "Collecting charset_normalizer<4,>=2 (from requests>=2.21.0->azure-core>=1.31.0->azure-cognitiveservices-speech)\n",
      "  Downloading charset_normalizer-3.4.2-cp311-cp311-win_amd64.whl.metadata (36 kB)\n",
      "Collecting idna<4,>=2.5 (from requests>=2.21.0->azure-core>=1.31.0->azure-cognitiveservices-speech)\n",
      "  Downloading idna-3.10-py3-none-any.whl.metadata (10 kB)\n",
      "Collecting urllib3<3,>=1.21.1 (from requests>=2.21.0->azure-core>=1.31.0->azure-cognitiveservices-speech)\n",
      "  Downloading urllib3-2.4.0-py3-none-any.whl.metadata (6.5 kB)\n",
      "Collecting certifi>=2017.4.17 (from requests>=2.21.0->azure-core>=1.31.0->azure-cognitiveservices-speech)\n",
      "  Downloading certifi-2025.4.26-py3-none-any.whl.metadata (2.5 kB)\n",
      "Downloading azure_cognitiveservices_speech-1.44.0-py3-none-win_amd64.whl (2.4 MB)\n",
      "   ---------------------------------------- 0.0/2.4 MB ? eta -:--:--\n",
      "   ---------------------------------------- 0.0/2.4 MB ? eta -:--:--\n",
      "   ---- ----------------------------------- 0.3/2.4 MB ? eta -:--:--\n",
      "   ----------------- ---------------------- 1.0/2.4 MB 3.0 MB/s eta 0:00:01\n",
      "   ----------------- ---------------------- 1.0/2.4 MB 3.0 MB/s eta 0:00:01\n",
      "   -------------------------------------- - 2.4/2.4 MB 3.0 MB/s eta 0:00:01\n",
      "   ---------------------------------------- 2.4/2.4 MB 2.9 MB/s eta 0:00:00\n",
      "Downloading azure_core-1.34.0-py3-none-any.whl (207 kB)\n",
      "Downloading requests-2.32.4-py3-none-any.whl (64 kB)\n",
      "Downloading charset_normalizer-3.4.2-cp311-cp311-win_amd64.whl (105 kB)\n",
      "Downloading idna-3.10-py3-none-any.whl (70 kB)\n",
      "Downloading urllib3-2.4.0-py3-none-any.whl (128 kB)\n",
      "Downloading certifi-2025.4.26-py3-none-any.whl (159 kB)\n",
      "Installing collected packages: urllib3, idna, charset_normalizer, certifi, requests, azure-core, azure-cognitiveservices-speech\n",
      "\n",
      "   ---------------------------------------- 0/7 [urllib3]\n",
      "   ---------------------------------------- 0/7 [urllib3]\n",
      "   ---------------------------------------- 0/7 [urllib3]\n",
      "   ---------------------------------------- 0/7 [urllib3]\n",
      "   ----- ---------------------------------- 1/7 [idna]\n",
      "   ----- ---------------------------------- 1/7 [idna]\n",
      "   ----------- ---------------------------- 2/7 [charset_normalizer]\n",
      "   ----------- ---------------------------- 2/7 [charset_normalizer]\n",
      "   ---------------------- ----------------- 4/7 [requests]\n",
      "   ---------------------- ----------------- 4/7 [requests]\n",
      "   ---------------------------- ----------- 5/7 [azure-core]\n",
      "   ---------------------------- ----------- 5/7 [azure-core]\n",
      "   ---------------------------- ----------- 5/7 [azure-core]\n",
      "   ---------------------------- ----------- 5/7 [azure-core]\n",
      "   ---------------------------- ----------- 5/7 [azure-core]\n",
      "   ---------------------------- ----------- 5/7 [azure-core]\n",
      "   ---------------------------- ----------- 5/7 [azure-core]\n",
      "   ---------------------------- ----------- 5/7 [azure-core]\n",
      "   ---------------------------- ----------- 5/7 [azure-core]\n",
      "   ---------------------------- ----------- 5/7 [azure-core]\n",
      "   --------------------------------- ----- 6/7 [azure-cognitiveservices-speech]\n",
      "   --------------------------------- ----- 6/7 [azure-cognitiveservices-speech]\n",
      "   --------------------------------------- 7/7 [azure-cognitiveservices-speech]\n",
      "\n",
      "Successfully installed azure-cognitiveservices-speech-1.44.0 azure-core-1.34.0 certifi-2025.4.26 charset_normalizer-3.4.2 idna-3.10 requests-2.32.4 urllib3-2.4.0\n",
      "Note: you may need to restart the kernel to use updated packages.\n"
     ]
    }
   ],
   "source": [
    "%pip install watchdog azure-cognitiveservices-speech"
   ]
  },
  {
   "cell_type": "code",
   "execution_count": null,
   "id": "bfa7410b",
   "metadata": {},
   "outputs": [],
   "source": []
  }
 ],
 "metadata": {
  "kernelspec": {
   "display_name": "Python 3",
   "language": "python",
   "name": "python3"
  },
  "language_info": {
   "codemirror_mode": {
    "name": "ipython",
    "version": 3
   },
   "file_extension": ".py",
   "mimetype": "text/x-python",
   "name": "python",
   "nbconvert_exporter": "python",
   "pygments_lexer": "ipython3",
   "version": "3.11.13"
  }
 },
 "nbformat": 4,
 "nbformat_minor": 5
}
