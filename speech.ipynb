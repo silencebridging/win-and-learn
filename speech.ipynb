{
 "cells": [
  {
   "cell_type": "code",
   "execution_count": 1,
   "id": "df34547c",
   "metadata": {},
   "outputs": [
    {
     "name": "stdout",
     "output_type": "stream",
     "text": [
      "Watching folder: sound\n",
      "New file detected: sound\\output_20250704_095915.txt\n",
      "Speaking text: BABA\n",
      "Speech synthesis completed.\n"
     ]
    }
   ],
   "source": [
    "\n",
    "import os\n",
    "import time\n",
    "from watchdog.observers import Observer\n",
    "from watchdog.events import FileSystemEventHandler\n",
    "import azure.cognitiveservices.speech as speechsdk\n",
    "\n",
    "speech_key = \"C2aQwIVI4DwKew11iZqZiOn4x1FEt7qgaM2qIfDZIdCXnZm9LEfMJQQJ99BEACYeBjFXJ3w3AAAEACOGfGDZ\"\n",
    "service_region = \"eastus\"\n",
    "\n",
    "speech_config = speechsdk.SpeechConfig(subscription=speech_key, region=service_region)\n",
    "speech_config.speech_synthesis_voice_name = \"sw-KE-ZuriNeural\"\n",
    "synthesizer = speechsdk.SpeechSynthesizer(speech_config=speech_config)\n",
    "\n",
    "watch_folder = \"sound\"\n",
    "\n",
    "class NewTextFileHandler(FileSystemEventHandler):\n",
    "    def on_created(self, event):\n",
    "        # Only handle files, ignore directories\n",
    "        if not event.is_directory and event.src_path.endswith('.txt'):\n",
    "            print(f\"New file detected: {event.src_path}\")\n",
    "            self.read_and_speak(event.src_path)\n",
    "    \n",
    "    def read_and_speak(self, filepath):\n",
    "        try:\n",
    "            with open(filepath, 'r', encoding='utf-8') as f:\n",
    "                text = f.read().strip()\n",
    "            if text:\n",
    "                print(f\"Speaking text: {text}\")\n",
    "                result = synthesizer.speak_text_async(text).get()\n",
    "                if result.reason == speechsdk.ResultReason.SynthesizingAudioCompleted:\n",
    "                    print(\"Speech synthesis completed.\")\n",
    "                else:\n",
    "                    print(f\"Speech synthesis error: {result.reason}\")\n",
    "        except Exception as e:\n",
    "            print(f\"Error reading/speaking file: {e}\")\n",
    "\n",
    "if __name__ == \"__main__\":\n",
    "    if not os.path.exists(watch_folder):\n",
    "        os.makedirs(watch_folder)\n",
    "\n",
    "    event_handler = NewTextFileHandler()\n",
    "    observer = Observer()\n",
    "    observer.schedule(event_handler, path=watch_folder, recursive=False)\n",
    "    observer.start()\n",
    "    print(f\"Watching folder: {watch_folder}\")\n",
    "\n",
    "    try:\n",
    "        while True:\n",
    "            time.sleep(1)\n",
    "    except KeyboardInterrupt:\n",
    "        observer.stop()\n",
    "    observer.join()\n"
   ]
  },
  {
   "cell_type": "code",
   "execution_count": null,
   "id": "e085ad27",
   "metadata": {},
   "outputs": [],
   "source": [
    "%pip install watchdog azure-cognitiveservices-speech"
   ]
  }
 ],
 "metadata": {
  "kernelspec": {
   "display_name": ".venv",
   "language": "python",
   "name": "python3"
  },
  "language_info": {
   "codemirror_mode": {
    "name": "ipython",
    "version": 3
   },
   "file_extension": ".py",
   "mimetype": "text/x-python",
   "name": "python",
   "nbconvert_exporter": "python",
   "pygments_lexer": "ipython3",
   "version": "3.11.9"
  }
 },
 "nbformat": 4,
 "nbformat_minor": 5
}
